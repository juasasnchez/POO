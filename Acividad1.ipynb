{
 "cells": [
  {
   "cell_type": "markdown",
   "metadata": {},
   "source": [
    "### Ejercicio Resuelto No 4\n"
   ]
  },
  {
   "cell_type": "markdown",
   "metadata": {},
   "source": [
    "probamos con la edad de Juan = 9"
   ]
  },
  {
   "cell_type": "code",
   "execution_count": 5,
   "metadata": {},
   "outputs": [
    {
     "name": "stdout",
     "output_type": "stream",
     "text": [
      "La edad de Juan es: 9\n",
      "La edad de Alberto es: 6.0\n",
      "La edad de Ana es: 12.0\n",
      "La edad de la mamá es: 27.0\n"
     ]
    }
   ],
   "source": [
    "# Defino la clase Familia que inicia con atributos de las edades en cero \n",
    "class Familia:\n",
    "    def __init__(self):\n",
    "        self.juan = 0\n",
    "        self.alberto = 0\n",
    "        self.ana = 0\n",
    "        self.mama = 0\n",
    "\n",
    "    def calcular_edades(self):\n",
    "        # Pregunt la edad de Juan\n",
    "        self.juan = int(input(\"¿Cuál es la edad de Juan? \"))\n",
    "\n",
    "        # Calculamos las edades de Alberto, Ana y la mamá\n",
    "        self.alberto = (2/3) * self.juan\n",
    "        self.ana = (4/3) * self.juan\n",
    "        self.mama = self.juan + self.alberto + self.ana\n",
    "\n",
    "    def mostrar_edades(self):\n",
    "        print(\"La edad de Juan es:\", self.juan)\n",
    "        print(\"La edad de Alberto es:\", self.alberto)\n",
    "        print(\"La edad de Ana es:\", self.ana)\n",
    "        print(\"La edad de la mamá es:\", self.mama)\n",
    "\n",
    "# Creamos una instancia de la clase Familia\n",
    "familia = Familia()\n",
    "# Calculamos las edades\n",
    "familia.calcular_edades()\n",
    "# Mostramos las edades\n",
    "familia.mostrar_edades()\n"
   ]
  },
  {
   "cell_type": "markdown",
   "metadata": {},
   "source": [
    "### Ejercicio Resuelto No 5\n"
   ]
  },
  {
   "cell_type": "code",
   "execution_count": 3,
   "metadata": {},
   "outputs": [
    {
     "name": "stdout",
     "output_type": "stream",
     "text": [
      "EL VALOR DE LA SUMA ES: 60.5\n"
     ]
    }
   ],
   "source": [
    "class Seguimiento:\n",
    "    def __init__(self):\n",
    "        self.SUMA = 0  # Inicialización de SUMA\n",
    "\n",
    "    def inicio(self):\n",
    "        self.SUMA = 0\n",
    "        X = 20\n",
    "        self.SUMA = self.SUMA + X\n",
    "        Y = 40\n",
    "        X = X + Y ** 2\n",
    "        self.SUMA = self.SUMA + X / Y\n",
    "        print(\"EL VALOR DE LA SUMA ES:\", self.SUMA)\n",
    "\n",
    "# Crear una instancia de la clase Seguimiento\n",
    "s = Seguimiento()\n",
    "# ejecutamos el metodo en donde estan las operaciones\n",
    "s.inicio()\n"
   ]
  },
  {
   "cell_type": "markdown",
   "metadata": {},
   "source": [
    "### Ejercicio Propuesto No 12\n",
    "\n",
    "Un empleado trabaja 48 horas en la semana a razón de $5.000 hora. El porcentaje de\n",
    "retención en la fuente es del 12,5% del salario bruto. Se desea saber cuál es el salario bruto,\n",
    "la retención en la fuente y el salario neto del trabajador."
   ]
  },
  {
   "cell_type": "code",
   "execution_count": 7,
   "metadata": {},
   "outputs": [
    {
     "name": "stdout",
     "output_type": "stream",
     "text": [
      "Salario Bruto: 240000\n",
      "Retención en la fuente: 30000.0\n",
      "Salario Neto: 210000.0\n"
     ]
    }
   ],
   "source": [
    "class Empleado:\n",
    "    def __init__(self, horas_trabajadas, salario_hora):\n",
    "        # Inicialización de las variables del empleado\n",
    "        self.horas_trabajadas = horas_trabajadas\n",
    "        self.salario_hora = salario_hora\n",
    "        self.salario_bruto = 0\n",
    "        self.retencion_fuente = 0\n",
    "        self.salario_neto = 0\n",
    "\n",
    "    def calcular_salario_bruto(self):\n",
    "        # Método para calcular el salario bruto multiplicando las horas trabajadas por el salario por hora\n",
    "        self.salario_bruto = self.horas_trabajadas * self.salario_hora\n",
    "\n",
    "    def calcular_retencion_fuente(self):\n",
    "        # Método para calcular la retención en la fuente, que es el 12.5% del salario bruto\n",
    "        self.retencion_fuente = 0.125 * self.salario_bruto  # 12.5% de retención\n",
    "\n",
    "    def calcular_salario_neto(self):\n",
    "        # Método para calcular el salario neto restando la retención en la fuente del salario bruto\n",
    "        self.salario_neto = self.salario_bruto - self.retencion_fuente\n",
    "\n",
    "    def calcular_salario(self):\n",
    "        # Método para calcular todas las partes del salario llamando a los métodos anteriores\n",
    "        self.calcular_salario_bruto()\n",
    "        self.calcular_retencion_fuente()\n",
    "        self.calcular_salario_neto()\n",
    "\n",
    "    def imprimir_informacion(self):\n",
    "        # Método para imprimir la información del salario bruto, retención en la fuente y salario neto\n",
    "        print(\"Salario Bruto:\", self.salario_bruto)\n",
    "        print(\"Retención en la fuente:\", self.retencion_fuente)\n",
    "        print(\"Salario Neto:\", self.salario_neto)\n",
    "\n",
    "\n",
    "# Crear un objeto Empleado\n",
    "empleado = Empleado(48, 5000)\n",
    "\n",
    "# Calcular el salario\n",
    "empleado.calcular_salario()\n",
    "\n",
    "# Imprimir la información\n",
    "empleado.imprimir_informacion()\n"
   ]
  },
  {
   "cell_type": "markdown",
   "metadata": {},
   "source": [
    "### Ejercicio Propuesto No 14\n"
   ]
  },
  {
   "cell_type": "code",
   "execution_count": 1,
   "metadata": {},
   "outputs": [
    {
     "name": "stdout",
     "output_type": "stream",
     "text": [
      "El cuadrado del número es: 4.0\n",
      "El cubo del número es: 8.0\n"
     ]
    }
   ],
   "source": [
    "class Calculadora:\n",
    "    def __init__(self, numero):\n",
    "        self.numero = numero\n",
    "\n",
    "    def obtener_cuadrado(self):\n",
    "        return self.numero ** 2\n",
    "\n",
    "    def obtener_cubo(self):\n",
    "        return self.numero ** 3\n",
    "\n",
    "\n",
    "num = float(input(\"Ingrese un número: \"))\n",
    "calculadora = Calculadora(num)\n",
    "print(\"El cuadrado del número es:\", calculadora.obtener_cuadrado())\n",
    "print(\"El cubo del número es:\", calculadora.obtener_cubo())\n",
    "\n"
   ]
  },
  {
   "cell_type": "markdown",
   "metadata": {},
   "source": [
    "### Ejercicio Propuesto No 17\n"
   ]
  },
  {
   "cell_type": "code",
   "execution_count": 4,
   "metadata": {},
   "outputs": [
    {
     "name": "stdout",
     "output_type": "stream",
     "text": [
      "El área del círculo es: 28.2744\n",
      "La longitud del círculo es: 18.8496\n"
     ]
    }
   ],
   "source": [
    "class Circulo:\n",
    "    def __init__(self, radio):\n",
    "        self.radio = radio \n",
    "    \n",
    "    def calcarea(self):\n",
    "        return (self.radio ** 2) * 3.1416\n",
    "    \n",
    "    def calclong(self):\n",
    "        return 2 * 3.1416 * self.radio\n",
    "\n",
    "radio = float(input(\"Ingrese el radio: \"))\n",
    "calcirculo = Circulo(radio)\n",
    "print(\"El área del círculo es:\", calcirculo.calcarea())\n",
    "print(\"La longitud del círculo es:\", calcirculo.calclong())\n"
   ]
  }
 ],
 "metadata": {
  "kernelspec": {
   "display_name": "Python 3",
   "language": "python",
   "name": "python3"
  },
  "language_info": {
   "codemirror_mode": {
    "name": "ipython",
    "version": 3
   },
   "file_extension": ".py",
   "mimetype": "text/x-python",
   "name": "python",
   "nbconvert_exporter": "python",
   "pygments_lexer": "ipython3",
   "version": "3.11.5"
  }
 },
 "nbformat": 4,
 "nbformat_minor": 2
}
